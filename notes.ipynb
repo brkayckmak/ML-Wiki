{
 "cells": [
  {
   "cell_type": "markdown",
   "metadata": {},
   "source": [
    "## <b>Artificial Intelligence Basics</b>"
   ]
  },
  {
   "cell_type": "markdown",
   "metadata": {},
   "source": [
    "## Types of Learning"
   ]
  },
  {
   "cell_type": "markdown",
   "metadata": {},
   "source": [
    "There are 3 main types of learning in artificial intelligence:\n",
    "* Supervised Learning: We have a dataset with the labels for the machine learning algorithm.\n",
    "* Unsupervised Learning: We have just the dataset and the machine learning algorithm finds the relationship present in the data.\n",
    "* Reinforcement Learning: There is no dataset at all and the machine learning algorithms interact with the environment to learn."
   ]
  },
  {
   "cell_type": "markdown",
   "metadata": {},
   "source": [
    "# <b>Machine Learning</b>"
   ]
  },
  {
   "cell_type": "markdown",
   "metadata": {},
   "source": [
    "## <b>1. Linear Regression</b>"
   ]
  },
  {
   "cell_type": "markdown",
   "metadata": {},
   "source": [
    "Linear regression is an approach for modelling the relationship between scalar dependent variable <i>y</i> and one or more explanatory variables <i>x</i>.<br>\n",
    "There are 2 types of linear regression:"
   ]
  },
  {
   "cell_type": "markdown",
   "metadata": {},
   "source": [
    "### <b>Simple Linear Regression</b>"
   ]
  },
  {
   "cell_type": "markdown",
   "metadata": {},
   "source": [
    "* There is one explanatory variable <i>x</i>.\n",
    "* Example: We want to approximate the price of houses if we know the size."
   ]
  },
  {
   "cell_type": "markdown",
   "metadata": {},
   "source": [
    "<img src=\"images/linear_reg1.png\">"
   ]
  },
  {
   "cell_type": "markdown",
   "metadata": {},
   "source": [
    "### <b>Multiple Linear Regression</b>"
   ]
  },
  {
   "cell_type": "markdown",
   "metadata": {},
   "source": [
    "* There are multiple explanatory variables <i>x</i>.\n",
    "* Example: We want to approximate the price of houses if we know the sizes and the number of rooms etc."
   ]
  },
  {
   "cell_type": "markdown",
   "metadata": {},
   "source": [
    "<img src=\"images/linear_reg2.png\">"
   ]
  },
  {
   "cell_type": "markdown",
   "metadata": {},
   "source": [
    "The aim of linear regression is find some linear relationship between the features.<br>\n",
    "Linear regression is a supervised learning algorithm."
   ]
  },
  {
   "cell_type": "markdown",
   "metadata": {},
   "source": [
    "Linear regression formula is:<br>\n",
    "$H(x) = b_0 + b_1 x + b_2 x + \\cdots$<br>\n",
    "Where<br>\n",
    "* <b>x</b> values are the independent variable we use to make predictions like sizes of the houses, the numbers of rooms...\n",
    "* <b>H(x)</b> is the dependent variable that we are trying to predict like price of the house.\n",
    "* <b>b</b> values are the weights of independent variables. Optimizing these values will boost the accuracy of the model."
   ]
  },
  {
   "cell_type": "markdown",
   "metadata": {},
   "source": [
    "### <b>Mean Squared Error</b>"
   ]
  },
  {
   "cell_type": "markdown",
   "metadata": {},
   "source": [
    "MSE is the difference between the <i>y</i> labels present in the dataset and the <i>H(x)</i> values predicted by the model."
   ]
  },
  {
   "cell_type": "markdown",
   "metadata": {},
   "source": [
    "<img src=\"images/mse.png\">"
   ]
  },
  {
   "cell_type": "markdown",
   "metadata": {},
   "source": [
    "$\\text{Cost function} = \\epsilon = [H(x) - y]^2$"
   ]
  },
  {
   "cell_type": "markdown",
   "metadata": {},
   "source": [
    "$\\text{MSE} = \\sum_{i} \\epsilon_{i}^2$\n"
   ]
  },
  {
   "cell_type": "markdown",
   "metadata": {},
   "source": [
    "* If MSE is low, it means the model predictions are very close to the actual values.\n",
    "* If MSE is large, it means the model predictions differ from the actual values."
   ]
  },
  {
   "cell_type": "markdown",
   "metadata": {},
   "source": [
    "Optimization algorithms used to minimize MSE. <b>Design Matrix Approach</b> or <b>Gradient Descent</b> could be used to optimize the <i>b</i> values and make model more accurate."
   ]
  },
  {
   "cell_type": "markdown",
   "metadata": {},
   "source": [
    "## <b>2. Logistic Regression</b>"
   ]
  },
  {
   "cell_type": "markdown",
   "metadata": {},
   "source": [
    "Linear regression solves the problem of regression which means the result is scalar value. Logistic regression solves the problem of classification.<br>\n",
    "Usually logistic regression is used for binary classification and the output is discrete (0 or 1)."
   ]
  },
  {
   "cell_type": "markdown",
   "metadata": {},
   "source": [
    "Applying linear regression for classification problems is not a good idea because;\n",
    "* We want to deal with probabilities as well,\n",
    "* linear regression is sensitive to outliers,\n",
    "* it has values outside the [0, 1] range."
   ]
  },
  {
   "cell_type": "markdown",
   "metadata": {},
   "source": [
    "<img src=\"images/logistic_reg1.png\">"
   ]
  },
  {
   "cell_type": "markdown",
   "metadata": {},
   "source": [
    "Logistic regression model for the same problem:"
   ]
  },
  {
   "cell_type": "markdown",
   "metadata": {},
   "source": [
    "<img src=\"images/logistic_reg2.png\">"
   ]
  },
  {
   "cell_type": "markdown",
   "metadata": {},
   "source": [
    "$f(x) = \\frac{1}{1 + e^{-x}}$\n",
    "\n",
    "This called the logistic function."
   ]
  },
  {
   "cell_type": "markdown",
   "metadata": {},
   "source": [
    "$p(x) = \\frac{1}{1 + e^{-(b_0 + b_1 x)}}$"
   ]
  },
  {
   "cell_type": "markdown",
   "metadata": {},
   "source": [
    "There are 2 types of logistic regression:"
   ]
  },
  {
   "cell_type": "markdown",
   "metadata": {},
   "source": [
    "### <b>Simple Logistic Regression</b>"
   ]
  },
  {
   "cell_type": "markdown",
   "metadata": {},
   "source": [
    "Simple logistic regression can have only 1 independent variable, for example balance on credit card."
   ]
  },
  {
   "cell_type": "markdown",
   "metadata": {},
   "source": [
    "### <b>Multiple Logistic Regression</b>"
   ]
  },
  {
   "cell_type": "markdown",
   "metadata": {},
   "source": [
    "Multiple logistic regression can have multiple independent variables, for example balance on credit card, age, gender, demographics, loan to income ratio etc."
   ]
  },
  {
   "cell_type": "markdown",
   "metadata": {},
   "source": [
    "## <b>3. Cross Validation</b>"
   ]
  },
  {
   "cell_type": "markdown",
   "metadata": {},
   "source": [
    "<b>Overfitting:</b> Overfitting means the model has trained too well on the training dataset. The overfitted model is very accurate on the training dataset but yields poor results on the test dataset. Too complicated models learns the noise instread of the actual relationships between the variables in the data."
   ]
  },
  {
   "cell_type": "markdown",
   "metadata": {},
   "source": [
    "<img src=\"images/overfit.png\">"
   ]
  },
  {
   "cell_type": "markdown",
   "metadata": {},
   "source": [
    "<b>Underfitting:</b> Underfitting means the model has not been fitted well to the training dataset. Underfitted models misses the trends in the training dataset and usually occurs when too simple model used in complex problems."
   ]
  },
  {
   "cell_type": "markdown",
   "metadata": {},
   "source": [
    "<img src=\"images/underfit.png\">"
   ]
  },
  {
   "cell_type": "markdown",
   "metadata": {},
   "source": [
    "* K-Folds Cross Validation helps to avoid underfirtting as well as overfitting.\n",
    "* The aim is to be able to generalize the model to new datasets with same accuracy.\n",
    "* All the data is used for training."
   ]
  },
  {
   "cell_type": "markdown",
   "metadata": {},
   "source": [
    "The training data splitted into <i>k</i> parts and there will be <i>k</i> seperate learning experiments. <i>k-1</i> folds used for training and 1 fold for the test."
   ]
  },
  {
   "cell_type": "markdown",
   "metadata": {},
   "source": [
    "<img src=\"images/cross_val.png\">"
   ]
  },
  {
   "cell_type": "markdown",
   "metadata": {},
   "source": [
    "Blue part is test, other 4 parts are training dataset for the first fit. The second fit will use second part as test and the other 4 parts for training etc."
   ]
  },
  {
   "cell_type": "markdown",
   "metadata": {},
   "source": [
    "## <b>4. K-Nearest Neighbors Classifier</b>"
   ]
  },
  {
   "cell_type": "markdown",
   "metadata": {},
   "source": [
    "* KNN classifier can classify examples by assigning them the class of the most similar labeled examples.\n",
    "* KNN is very simple but extremely powerful algorithm.\n",
    "* KNN is well suited for classification tasks where the relationships between the features are very complex and hard to understand.\n",
    "* We have a training dataset so the data is classified into several categories.\n",
    "* When a new (to be predicted) data go into KNN, algorithm identifies k elements in the training dataset that are the nearest in the similarity and classify the new data to one of that k classes with checking similarity of the new data's features."
   ]
  },
  {
   "cell_type": "markdown",
   "metadata": {},
   "source": [
    "<img src=\"images/knn1.png\">"
   ]
  },
  {
   "cell_type": "markdown",
   "metadata": {},
   "source": [
    "<img src=\"images/knn2.png\">"
   ]
  },
  {
   "cell_type": "markdown",
   "metadata": {},
   "source": [
    "The algorithm needs a distance function to be able to classify new data points like \"tomato\"."
   ]
  },
  {
   "cell_type": "markdown",
   "metadata": {},
   "source": [
    "* KNN is a lazy learner. <b>Lazy learners do not learn anything</b>.\n",
    "* We just store the training data. Training is very fast because there is no training at all, but making the prediction is rather slow because of calculating the distances.\n",
    "* This is a non-parametric learning so no parameters are to be learned about the data.\n",
    "* With linear and logistic regression we have to learn the <i>b</i> parameters either with gradient descent or with maximum likelihood method."
   ]
  },
  {
   "cell_type": "markdown",
   "metadata": {},
   "source": [
    "### <b>Distance</b>"
   ]
  },
  {
   "cell_type": "markdown",
   "metadata": {},
   "source": [
    "There are several types of distance metrics. In mathematics a metric or distance function is a function that gives a distance between each pair of point elements of a set. This is how we can measure the similarity between each item in data."
   ]
  },
  {
   "cell_type": "markdown",
   "metadata": {},
   "source": [
    "Euclidean distance:"
   ]
  },
  {
   "cell_type": "markdown",
   "metadata": {},
   "source": [
    "$\\text{dist}(x, y) = \\sqrt{\\sum_{i=1}^{n} (x_i - y_i)^2}$\n"
   ]
  },
  {
   "cell_type": "markdown",
   "metadata": {},
   "source": [
    "Manhattan distance:"
   ]
  },
  {
   "cell_type": "markdown",
   "metadata": {},
   "source": [
    "$\\text{dist}(x, y) = \\sum_{i=1}^{n} |x_i - y_i|$"
   ]
  },
  {
   "cell_type": "markdown",
   "metadata": {},
   "source": [
    "Euclidean distance usually not recommended in higher dimensions. It scales poorly with the number of dimensions."
   ]
  },
  {
   "cell_type": "markdown",
   "metadata": {},
   "source": [
    "Manhattan distance is usually preferred. It scales well with the number of dimensions."
   ]
  },
  {
   "cell_type": "markdown",
   "metadata": {},
   "source": [
    "For our example, if we use Euclidean distance:"
   ]
  },
  {
   "cell_type": "markdown",
   "metadata": {},
   "source": [
    "$\\text{dist}(\\text{tomato}, \\text{carrot}) = \\sqrt{(6 - 7)^2 + (4 - 10)^2} = 6.083$\n",
    "\n",
    "$\\text{dist}(\\text{tomato}, \\text{apple}) = \\sqrt{(6 - 10)^2 + (4 - 9)^2} = 6.403$\n",
    "\n",
    "$\\text{dist}(\\text{tomato}, \\text{bacon}) = \\sqrt{(6 - 1)^2 + (4 - 4)^2} = 5$\n",
    "\n",
    "$\\text{dist}(\\text{tomato}, \\text{banana}) = \\sqrt{(6 - 10)^2 + (4 - 1)^2} = 5$\n",
    "\n",
    "$\\text{dist}(\\text{tomato}, \\text{cheese}) = \\sqrt{(6 - 1)^2 + (4 - 1)^2} = 5.83$\n"
   ]
  },
  {
   "cell_type": "markdown",
   "metadata": {},
   "source": [
    "* If <b>k=1</b>: we consider the smallest distance (bacon and banana). 50% - 50% that tomato is a fruit or a protein.\n",
    "* If <b>k=2</b>: we consider the 2 smallest discantec (bacon and banana). 50% - 50% that tomato is a fruit or a protein.\n",
    "* If <b>k=3</b>: we consider the 3 smallest distances; bacon, banana and cheese. So tomato appears to be a protein."
   ]
  },
  {
   "cell_type": "markdown",
   "metadata": {},
   "source": [
    "### <b>Bias and Variance Trade-Off</b>"
   ]
  },
  {
   "cell_type": "markdown",
   "metadata": {},
   "source": [
    "<b>Bias:</b> The bias is the error from the incorrect assumptions in the algorithm. High bias means underfitting.<br>\n",
    "<b>Variance:</b> The variance is the error from the sensitivity to random fluctiations in the training dataset. High variance means overfitting."
   ]
  },
  {
   "cell_type": "markdown",
   "metadata": {},
   "source": [
    "<img src=\"images/bias_variance.png\">"
   ]
  },
  {
   "cell_type": "markdown",
   "metadata": {},
   "source": [
    "High Bias + Low Variance = Underfitting<br>\n",
    "Low Bias + High Variance = Overfitting"
   ]
  },
  {
   "cell_type": "markdown",
   "metadata": {},
   "source": [
    "### <b>How to Choose the Optimal K Value</b>"
   ]
  },
  {
   "cell_type": "markdown",
   "metadata": {},
   "source": [
    "Deciding how many neighbors to use for KNN determines how well the model will generalize and work on other datasets."
   ]
  },
  {
   "cell_type": "markdown",
   "metadata": {},
   "source": [
    "<b>Small k Value:</b> Noisy data or outliers have a huge impact on the classifier. This case is overfitting.<br>\n",
    "<b>Large k Value:</b> The classifier has the tendency to predict the majority class regardless of which neighbors are nearest. This case is underfitting."
   ]
  },
  {
   "cell_type": "markdown",
   "metadata": {},
   "source": [
    "Cross validation should be used for optimized k value."
   ]
  },
  {
   "cell_type": "markdown",
   "metadata": {},
   "source": [
    "### <b>Normalization</b>"
   ]
  },
  {
   "cell_type": "markdown",
   "metadata": {},
   "source": [
    "Features are usually transformed into a range before the KNN algorithm is applied. If certain features have much larger values than the others, the distance measurements will be strongly dominated by larger values. Normalization rescales all of the featrures such that each one contributes relatively equally to the distance formula."
   ]
  },
  {
   "cell_type": "markdown",
   "metadata": {},
   "source": [
    "There is 2 main normalization methods:<br>\n",
    "* Min-Max Normalization\n",
    "* Z-Score Transformation"
   ]
  },
  {
   "cell_type": "markdown",
   "metadata": {},
   "source": [
    "#### <b>Min-Max Normalization</b>"
   ]
  },
  {
   "cell_type": "markdown",
   "metadata": {},
   "source": [
    "This process transforms a feature such that all of its values fall in range between 0 and 1.<br>\n",
    "Normalized feature values can be interpreted as indicating how far from 0% to 100% the original value fall along the range between the original minima and maxima."
   ]
  },
  {
   "cell_type": "markdown",
   "metadata": {},
   "source": [
    "$x' = \\frac{x - \\min(x)}{\\max(x) - \\min(x)}$"
   ]
  },
  {
   "cell_type": "markdown",
   "metadata": {},
   "source": [
    "#### <b>Z-Score Transformation</b>"
   ]
  },
  {
   "cell_type": "markdown",
   "metadata": {},
   "source": [
    "Z-Score Transformation is a way of normalizing the dataset as well: the algorithm uses the mean and standard deviation to do so."
   ]
  },
  {
   "cell_type": "markdown",
   "metadata": {},
   "source": [
    "$z = \\frac{x - \\text{mean}(x)}{\\text{std}(x)}$\n"
   ]
  },
  {
   "cell_type": "markdown",
   "metadata": {},
   "source": [
    "In PCA, Z-Score transformation is preferred."
   ]
  },
  {
   "cell_type": "markdown",
   "metadata": {},
   "source": [
    "## <b>5. Naive Bayes Classifier</b>"
   ]
  },
  {
   "cell_type": "markdown",
   "metadata": {},
   "source": [
    "* Naive Bayes classifier is a very efficient supervised learning classifier algorithm.\n",
    "* It scales well even in high dimensions (a lot of features).\n",
    "* It is able to compete with SVM or random forest classifiers.\n",
    "* It can make good predictions even when the training data is relatively small.\n",
    "* The \"Naive\" assumption is that each input variable is independent."
   ]
  },
  {
   "cell_type": "markdown",
   "metadata": {},
   "source": [
    "For example: a fruit can be considered to be an apple if it is red, rounded and about 8cm in diameter.<br>\n",
    "Naive Bayes classifier considers each of these features contribute independently to the probability that this fruit is an apple.<br>\n",
    "It does not care about the correlation between color, roundness, diameter and other features."
   ]
  },
  {
   "cell_type": "markdown",
   "metadata": {},
   "source": [
    "* The disadvantage of Naive Bayes classifier is: it has the assumption that the features are independent. It usually is not true at all.\n",
    "* The advantages of Naive Bayes classifier are: it's relatively simple to understand, it's a relatively fast algorithm and can be trained on small datasets, it's not sensitive to irrelevant features."
   ]
  },
  {
   "cell_type": "markdown",
   "metadata": {},
   "source": [
    "This algorithm is so powerful on text classification because;\n",
    "* The probability of occurence of any word given the class label is independent of the probability of occurence of any other word given that label.\n",
    "* The probability of occurence of a word in a document is independent of the location og that word within the document."
   ]
  },
  {
   "cell_type": "markdown",
   "metadata": {},
   "source": [
    "The formula of Naive Bayes:"
   ]
  },
  {
   "cell_type": "markdown",
   "metadata": {},
   "source": [
    "$P(C_k \\mid \\mathbf{x}) = \\frac{P(C_k) \\prod_{i=1}^{n} P(x_i \\mid C_k)}{P(\\mathbf{x})}$\n"
   ]
  },
  {
   "cell_type": "markdown",
   "metadata": {},
   "source": [
    "<img src=\"images/naive_bayes.png\">"
   ]
  },
  {
   "cell_type": "markdown",
   "metadata": {},
   "source": [
    "## <b>6. Support Vector Machines</b>"
   ]
  },
  {
   "cell_type": "markdown",
   "metadata": {},
   "source": [
    "* SVMs are very popular and widely used supervised learning classification algorithm.\n",
    "* The great benefit of SVMs are they can operate even in infinite dimensions.\n",
    "* It defines a margin (decision boundary) between the data points in the multidimensional space.\n",
    "* The goal is to find a flat boundary (also known as hyperplane) that leads to a homogeneous partition of the data.\n",
    "* A good seperation is achieved by the hyperplane that has the largest distance to the nearest training data point of any class since in general the larger the margin the lower the generalization error of the classifier.\n",
    "* So SVM algorithm maximizes the margin. "
   ]
  },
  {
   "cell_type": "markdown",
   "metadata": {},
   "source": [
    "<img src=\"images/svm1.png\">"
   ]
  },
  {
   "cell_type": "markdown",
   "metadata": {},
   "source": [
    "* The points that are closest to the maximum margin are called the <b>support vectors</b>.\n",
    "* The support vectors store the information for the decision boundary.\n",
    "* If the positions of other data points nothing happens but if support vectors locations changed, the model changes as well.\n",
    "* Each class have at least one support vector.\n",
    "* We can use the support vectors exclusively to reconstruct the hyperplane so the decision boundary.\n",
    "* The classification model can be stored even when there are an extremely huge amount of features because model only stores the support vectors.\n",
    "* The main problem is that in real world problems are non-linearly seperable.\n",
    "* Instead of classifying all the data points correctly, SVM allows some mistakes.\n",
    "* A key feature of SVMs is their ability to map the problem into a higher dimensional space using a process known as the <b>kernel trick</b>."
   ]
  },
  {
   "attachments": {
    "image.png": {
     "image/png": "[encoded data removed]"
    }
   },
   "cell_type": "markdown",
   "metadata": {},
   "source": [
    "![image.png](attachment:image.png)"
   ]
  },
  {
   "cell_type": "markdown",
   "metadata": {},
   "source": [
    "<img src=\"images/svm2.png\">"
   ]
  },
  {
   "cell_type": "markdown",
   "metadata": {},
   "source": [
    "With the kernel function, SVM can transform the problem into a higher dimensional space that is linearly seperable one."
   ]
  },
  {
   "cell_type": "markdown",
   "metadata": {},
   "source": [
    "SVM learns concepts (features) that were not explicitly measured in the original dataset and creates a feature."
   ]
  },
  {
   "cell_type": "markdown",
   "metadata": {},
   "source": [
    "### <b>Advantages and Disadvantages</b>\n",
    "#### <b>Advantages</b>\n",
    "* SVM can be used both for regression and classification as well.\n",
    "* It uses a subset of the dataset (support vectors) in the decision function so it is memory friendly.\n",
    "* SVM is working fine even in infinite dimensions.\n",
    "* It is easier to use than neural networks (but neural networks outperforms it).\n",
    "#### <b>Disadvantages</b>\n",
    "* SVM deals with a large number of parameters and kernels.\n",
    "* It is quite slow especially when there is a large number of features.\n",
    "* It is quite hard to understand.\n",
    "* There are no probabilities associated with the predictions."
   ]
  },
  {
   "cell_type": "markdown",
   "metadata": {},
   "source": [
    "## <b>4. Decision Trees</b>"
   ]
  },
  {
   "cell_type": "markdown",
   "metadata": {},
   "source": [
    "* Decision Tree is a type of supervised learning approaches. It mostly used in classification problems but it can be used for regression as well."
   ]
  },
  {
   "cell_type": "markdown",
   "metadata": {},
   "source": [
    "For example: We have a single feature <i>x</i>, the number of hours a student spent with studying. Want to predict the <i>y</i>, probability of passing the exam."
   ]
  },
  {
   "cell_type": "markdown",
   "metadata": {},
   "source": [
    "<img src=\"images/decision_tree1.png\">"
   ]
  },
  {
   "cell_type": "markdown",
   "metadata": {},
   "source": [
    "<img src=\"images/decision_tree2.png\">"
   ]
  },
  {
   "cell_type": "markdown",
   "metadata": {},
   "source": [
    "Decision Tree classifier accuracy heavily depends on splits. How to construct the tree? What are the nodes?"
   ]
  },
  {
   "cell_type": "markdown",
   "metadata": {},
   "source": [
    "There are several algorithms for this problem:\n",
    "* Gini Index Approach\n",
    "* Calculating the information entropy (ID3 algorithm or C4.5 approach)\n",
    "* Algorithm based on variance reduction"
   ]
  },
  {
   "cell_type": "markdown",
   "metadata": {},
   "source": [
    "An example of a dataset and created decision tree:"
   ]
  },
  {
   "cell_type": "markdown",
   "metadata": {},
   "source": [
    "<img src=\"images/decision_tree3.png\">"
   ]
  },
  {
   "cell_type": "markdown",
   "metadata": {},
   "source": [
    "### <b>Advantages and Disadvantages</b>\n",
    "#### <b>Advantages</b>\n",
    "* Easy to understand and interpret.\n",
    "* It is one of the best approaches to identify most significant variables and the relationships between the variables.\n",
    "* No need for data preprocessing. Decision trees are not influenced by outliers.\n",
    "* Decision trees can handle numerical variables as well as categorical variables.\n",
    "#### <b>Disadvantages</b>\n",
    "* Decision trees have the tendency to overfit.\n",
    "* Decision trees can be unstable because small variations in the data might result in a completely different tree being generated."
   ]
  },
  {
   "cell_type": "markdown",
   "metadata": {},
   "source": []
  }
 ],
 "metadata": {
  "language_info": {
   "name": "python"
  }
 },
 "nbformat": 4,
 "nbformat_minor": 2
}
